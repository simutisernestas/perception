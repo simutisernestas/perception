{
 "cells": [
  {
   "cell_type": "markdown",
   "metadata": {},
   "source": [
    "# Weekly Project 5\n",
    "## Global Registration implementation.\n",
    "## Task 1\n",
    "Today your project is to implement a global registration algorithm.\n",
    "\n",
    "It should be able to roughly align two pointclouds.\n",
    "1. Implement global registration\n",
    "2. Can you fit **r1.pcd** and **r2.pcd**?\n",
    "3. Can you fit **car1.ply** and **car2.ply**?\n",
    "These are in the *global_registration* folder\n"
   ]
  },
  {
   "cell_type": "code",
   "execution_count": 1,
   "metadata": {},
   "outputs": [
    {
     "name": "stdout",
     "output_type": "stream",
     "text": [
      "Jupyter environment detected. Enabling Open3D WebVisualizer.\n",
      "[Open3D INFO] WebRTC GUI backend enabled.\n",
      "[Open3D INFO] WebRTCWindowSystem: HTTP handshake server disabled.\n"
     ]
    }
   ],
   "source": [
    "import open3d as o3d\n",
    "import numpy as np\n",
    "import copy\n",
    "from scipy.spatial import procrustes\n",
    "import scipy"
   ]
  },
  {
   "cell_type": "code",
   "execution_count": 2,
   "metadata": {},
   "outputs": [],
   "source": [
    "# helper function for drawing if you want it to be more clear which is which set recolor=True\n",
    "def draw_registrations(source, target, transformation = None, recolor = False):\n",
    "    source_temp = copy.deepcopy(source)\n",
    "    target_temp = copy.deepcopy(target)\n",
    "    if(recolor):\n",
    "        source_temp.paint_uniform_color([1, .1, 0])\n",
    "        target_temp.paint_uniform_color([0, .1, 1])\n",
    "    if(transformation is not None):\n",
    "        source_temp.transform(transformation)\n",
    "    o3d.visualization.draw_geometries([source_temp, target_temp])"
   ]
  },
  {
   "cell_type": "code",
   "execution_count": 3,
   "metadata": {},
   "outputs": [],
   "source": [
    "source = o3d.io.read_point_cloud(\"global_registration/r1.pcd\")\n",
    "target = o3d.io.read_point_cloud(\"global_registration/r2.pcd\")\n",
    "voxel_size = 0.075\n",
    "# draw_registrations(source, target)"
   ]
  },
  {
   "cell_type": "code",
   "execution_count": 4,
   "metadata": {},
   "outputs": [
    {
     "name": "stdout",
     "output_type": "stream",
     "text": [
      "[Open3D WARNING] geometry::TriangleMesh appears to be a geometry::PointCloud (only contains vertices, but no triangles).\n"
     ]
    }
   ],
   "source": [
    "mesh = o3d.io.read_triangle_mesh(\"global_registration/car1.ply\")\n",
    "pcd1 = o3d.geometry.PointCloud()\n",
    "pcd1.points = o3d.utility.Vector3dVector(np.array(mesh.vertices))\n",
    "draw_registrations(pcd1,pcd1)"
   ]
  },
  {
   "cell_type": "markdown",
   "metadata": {},
   "source": [
    "### Features"
   ]
  },
  {
   "cell_type": "code",
   "execution_count": 5,
   "metadata": {},
   "outputs": [],
   "source": [
    "source = source.voxel_down_sample(voxel_size)\n",
    "source.estimate_normals(o3d.geometry.KDTreeSearchParamHybrid(radius=voxel_size * 2.0,\n",
    "                                            max_nn=30))\n",
    "source_fpfh_features = o3d.pipelines.registration.compute_fpfh_feature(source,\n",
    "    o3d.geometry.KDTreeSearchParamHybrid(radius=voxel_size * 5.0,max_nn=100))\n",
    "\n",
    "target = target.voxel_down_sample(voxel_size)\n",
    "target.estimate_normals(o3d.geometry.KDTreeSearchParamHybrid(radius=voxel_size * 2.0,\n",
    "                                            max_nn=30))\n",
    "target_fpfh_features = o3d.pipelines.registration.compute_fpfh_feature(target,\n",
    "    o3d.geometry.KDTreeSearchParamHybrid(radius=voxel_size * 5.0, max_nn=100))"
   ]
  },
  {
   "cell_type": "code",
   "execution_count": 6,
   "metadata": {},
   "outputs": [
    {
     "data": {
      "text/plain": [
       "((33, 1615),\n",
       " (33, 2154),\n",
       " <bound method PyCapsule.dimension of PointCloud with 1615 points.>,\n",
       " <bound method PyCapsule.dimension of PointCloud with 2154 points.>)"
      ]
     },
     "execution_count": 6,
     "metadata": {},
     "output_type": "execute_result"
    }
   ],
   "source": [
    "target_fpfh_features.data.shape, source_fpfh_features.data.shape, target.dimension, source.dimension"
   ]
  },
  {
   "cell_type": "code",
   "execution_count": 16,
   "metadata": {},
   "outputs": [],
   "source": [
    "target_points = np.asarray(target.points)\n",
    "target_centroid = np.mean(target_points, axis=0)\n",
    "source_points = np.asarray(source.points)\n",
    "source_centroid = np.mean(source_points, axis=0)"
   ]
  },
  {
   "cell_type": "code",
   "execution_count": 49,
   "metadata": {},
   "outputs": [
    {
     "data": {
      "text/plain": [
       "(array([[ 0.99317008, -0.02667225,  0.11358599],\n",
       "        [ 0.03071052,  0.99895151, -0.03395214],\n",
       "        [-0.11256131,  0.03720854,  0.99294787]]),\n",
       " array([ 0.38525544, -0.14254391, -0.26332773]))"
      ]
     },
     "execution_count": 49,
     "metadata": {},
     "output_type": "execute_result"
    }
   ],
   "source": [
    "# ICP\n",
    "target_points.shape, len(target_points), len(source_points)\n",
    "\n",
    "n = 50\n",
    "pairs = {}\n",
    "for ti,tp in enumerate(target_points):\n",
    "    # mind = np.inf\n",
    "    # for sp in source_points:\n",
    "    #     d = np.sqrt( (tp[0]-sp[0])**2 + (tp[1]-sp[1])**2 + (tp[2]-sp[2])**2 )\n",
    "    #     if d < mind:\n",
    "    #         mind = d\n",
    "    # print(f\"Optimal: {mind}\")\n",
    "\n",
    "    mind = np.inf\n",
    "    si = -1\n",
    "    ri = np.random.randint(0, len(source_points)-1, n)\n",
    "    for i in ri:\n",
    "        sp = source_points[i]\n",
    "        d = np.sqrt( (tp[0]-sp[0])**2 + (tp[1]-sp[1])**2 + (tp[2]-sp[2])**2 )\n",
    "        if d < mind:\n",
    "            mind = d\n",
    "            si = i\n",
    "    pairs[ti] = si\n",
    "\n",
    "Cov = target_points[list(pairs.keys())].T @ source_points[list(pairs.values())]\n",
    "U, S, Vt = np.linalg.svd(Cov)\n",
    "v = Vt.T\n",
    "d = np.linalg.det(v @ U.T)\n",
    "e = np.array([[1, 0, 0], [0, 1, 0], [0, 0, d]])\n",
    "r = v @ e @ U.T\n",
    "estimated_rotation = r.T\n",
    "T = target_centroid - estimated_rotation @ source_centroid\n",
    "estimated_rotation, T"
   ]
  },
  {
   "cell_type": "code",
   "execution_count": null,
   "metadata": {},
   "outputs": [],
   "source": []
  },
  {
   "cell_type": "code",
   "execution_count": 8,
   "metadata": {},
   "outputs": [],
   "source": [
    "# data = np.append(target_fpfh_features.data.T,source_fpfh_features.data.T,axis=0)\n",
    "kd1 = scipy.spatial.KDTree(target_fpfh_features.data.T)\n",
    "kd2 = scipy.spatial.KDTree(source_fpfh_features.data.T)\n",
    "indexes = kd1.query_ball_tree(kd2, r=13)\n",
    "# target => source\n",
    "matches = {}\n",
    "for i in range(len(indexes)):\n",
    "    if indexes[i]:\n",
    "        matches[i] = indexes[i][0]\n",
    "n_matched = len(matches)"
   ]
  },
  {
   "cell_type": "code",
   "execution_count": 9,
   "metadata": {},
   "outputs": [
    {
     "data": {
      "text/plain": [
       "(array([  89,   24, 1614]), [15, 15, 15])"
      ]
     },
     "execution_count": 9,
     "metadata": {},
     "output_type": "execute_result"
    }
   ],
   "source": [
    "target_random_sample = np.random.choice(list(matches.keys()), (3,), replace=False)\n",
    "source_random_sample = [matches[target_random_sample[x]] for x in range(3)]\n",
    "target_random_sample, source_random_sample"
   ]
  },
  {
   "cell_type": "code",
   "execution_count": 10,
   "metadata": {},
   "outputs": [
    {
     "data": {
      "text/plain": [
       "True"
      ]
     },
     "execution_count": 10,
     "metadata": {},
     "output_type": "execute_result"
    }
   ],
   "source": [
    "match_targets = target_points[list(matches.keys())]\n",
    "match_sources = source_points[list(matches.values())]\n",
    "match_targets.shape == match_sources.shape"
   ]
  },
  {
   "cell_type": "code",
   "execution_count": 11,
   "metadata": {},
   "outputs": [
    {
     "data": {
      "text/plain": [
       "(array([[ 0.5386475 ,  0.64242538, -0.42536204],\n",
       "        [-0.55162953, -0.79434884, -0.07560413],\n",
       "        [ 0.41885583,  0.64024069, -0.42882768]]),\n",
       " array([[ 0.25414949,  0.15883807, -0.7056722 ],\n",
       "        [ 0.25414949,  0.15883807, -0.7056722 ],\n",
       "        [ 0.25414949,  0.15883807, -0.7056722 ]]))"
      ]
     },
     "execution_count": 11,
     "metadata": {},
     "output_type": "execute_result"
    }
   ],
   "source": [
    "target_matched_xyz = target_points[target_random_sample] - target_centroid\n",
    "source_matched_xyz = source_points[source_random_sample] - source_centroid\n",
    "target_matched_xyz,source_matched_xyz"
   ]
  },
  {
   "cell_type": "code",
   "execution_count": 12,
   "metadata": {},
   "outputs": [
    {
     "name": "stderr",
     "output_type": "stream",
     "text": [
      "C:\\Users\\simut\\AppData\\Local\\Temp\\ipykernel_15856\\143316924.py:1: UserWarning: Optimal rotation is not uniquely or poorly defined for the given sets of vectors.\n",
      "  (estimated_rotation,rmsd) = scipy.spatial.transform.Rotation.align_vectors(target_matched_xyz, source_matched_xyz)\n"
     ]
    },
    {
     "data": {
      "text/plain": [
       "(<scipy.spatial.transform._rotation.Rotation at 0x1c19c5637b0>,\n",
       " 1.6220265998910222)"
      ]
     },
     "execution_count": 12,
     "metadata": {},
     "output_type": "execute_result"
    }
   ],
   "source": [
    "(estimated_rotation,rmsd) = scipy.spatial.transform.Rotation.align_vectors(target_matched_xyz, source_matched_xyz)\n",
    "estimated_rotation,rmsd"
   ]
  },
  {
   "cell_type": "code",
   "execution_count": 13,
   "metadata": {},
   "outputs": [
    {
     "data": {
      "text/plain": [
       "22.87964538631396"
      ]
     },
     "execution_count": 13,
     "metadata": {},
     "output_type": "execute_result"
    }
   ],
   "source": [
    "# match_targets.shape == match_sources.shape\n",
    "np.linalg.norm(estimated_rotation.apply(match_sources) - match_targets)"
   ]
  },
  {
   "cell_type": "code",
   "execution_count": 14,
   "metadata": {},
   "outputs": [],
   "source": [
    "# n_matched = min(target_fpfh_features.data.shape[1], source_fpfh_features.data.shape[1])\n",
    "\n",
    "# n_target_f = target_fpfh_features.data.shape[1]\n",
    "# n_source_f = source_fpfh_features.data.shape[1]\n",
    "\n",
    "# p_over_norm = False\n",
    "\n",
    "# min_disparity = np.inf\n",
    "# min_target_sample = np.zeros((3,))\n",
    "# min_source_sample = np.zeros((3,))\n",
    "# # for i in range(10000):\n",
    "# target_random_sample = np.random.choice(np.arange(n_target_f), (3,), replace=False)\n",
    "# source_random_sample = np.random.choice(np.arange(n_source_f), (3,), replace=False)\n",
    "# if p_over_norm:\n",
    "#     mtx1, mtx2, disparity = procrustes(\n",
    "#         target_fpfh_features.data[:,target_random_sample], \n",
    "#         source_fpfh_features.data[:,source_random_sample])\n",
    "# else:\n",
    "#     disparity = np.linalg.norm(\n",
    "#         target_fpfh_features.data[:,target_random_sample] - \n",
    "#         source_fpfh_features.data[:,source_random_sample])\n",
    "# if disparity < min_disparity:\n",
    "#     min_disparity = disparity\n",
    "#     min_target_sample = target_random_sample\n",
    "#     min_source_sample = source_random_sample\n",
    "\n",
    "# print(min_disparity, min_target_sample, min_source_sample)"
   ]
  },
  {
   "cell_type": "code",
   "execution_count": 15,
   "metadata": {},
   "outputs": [
    {
     "ename": "NameError",
     "evalue": "name 'min_target_sample' is not defined",
     "output_type": "error",
     "traceback": [
      "\u001b[1;31m---------------------------------------------------------------------------\u001b[0m",
      "\u001b[1;31mNameError\u001b[0m                                 Traceback (most recent call last)",
      "\u001b[1;32mc:\\Users\\simut\\Desktop\\stuff\\DTU\\courses\\Perception\\Exercises\\week5\\project\\sandbox.ipynb Cell 17'\u001b[0m in \u001b[0;36m<module>\u001b[1;34m\u001b[0m\n\u001b[1;32m----> <a href='vscode-notebook-cell:/c%3A/Users/simut/Desktop/stuff/DTU/courses/Perception/Exercises/week5/project/sandbox.ipynb#ch0000016?line=0'>1</a>\u001b[0m target_matched_xyz \u001b[39m=\u001b[39m target_points[min_target_sample] \u001b[39m-\u001b[39m target_centroid\n\u001b[0;32m      <a href='vscode-notebook-cell:/c%3A/Users/simut/Desktop/stuff/DTU/courses/Perception/Exercises/week5/project/sandbox.ipynb#ch0000016?line=1'>2</a>\u001b[0m source_matched_xyz \u001b[39m=\u001b[39m source_points[min_source_sample] \u001b[39m-\u001b[39m source_centroid\n",
      "\u001b[1;31mNameError\u001b[0m: name 'min_target_sample' is not defined"
     ]
    }
   ],
   "source": [
    "target_matched_xyz = target_points[min_target_sample] - target_centroid\n",
    "source_matched_xyz = source_points[min_source_sample] - source_centroid"
   ]
  },
  {
   "cell_type": "code",
   "execution_count": null,
   "metadata": {},
   "outputs": [
    {
     "data": {
      "text/plain": [
       "(2154, 3)"
      ]
     },
     "execution_count": 474,
     "metadata": {},
     "output_type": "execute_result"
    }
   ],
   "source": [
    "x = np.array([[0, 2], [1, 1], [2, 0]]).T\n",
    "x.shape, target_points[target_random_sample], \n",
    "\n",
    "np.append(target_points[target_random_sample], source_points[source_random_sample],axis=0).shape, x.shape\n",
    "source_points.shape"
   ]
  },
  {
   "cell_type": "code",
   "execution_count": null,
   "metadata": {},
   "outputs": [],
   "source": [
    "# Cpq = target_matched_xyz @ source_matched_xyz.T\n",
    "# U,S,V = np.linalg.svd(Cpq)\n",
    "# U @ V"
   ]
  },
  {
   "cell_type": "code",
   "execution_count": null,
   "metadata": {},
   "outputs": [
    {
     "data": {
      "text/plain": [
       "(<scipy.spatial.transform._rotation.Rotation at 0x1943ac42990>,\n",
       " 1.0179907252439597)"
      ]
     },
     "execution_count": 338,
     "metadata": {},
     "output_type": "execute_result"
    }
   ],
   "source": [
    "(estimated_rotation,rmsd) = scipy.spatial.transform.Rotation.align_vectors(target_matched_xyz, source_matched_xyz)\n",
    "estimated_rotation,rmsd"
   ]
  },
  {
   "cell_type": "code",
   "execution_count": null,
   "metadata": {},
   "outputs": [
    {
     "data": {
      "text/plain": [
       "(array([[-0.48978131, -0.64845683,  0.13119908],\n",
       "        [-0.22432958, -0.35277494,  0.03728706],\n",
       "        [-0.18791448,  0.48169804, -0.12840193]]),\n",
       " array([[-0.67780466, -0.27464229,  0.02694767],\n",
       "        [ 0.06418354,  0.17066639, -0.02039324],\n",
       "        [-0.88154976,  0.55336459, -0.18775678]]))"
      ]
     },
     "execution_count": 353,
     "metadata": {},
     "output_type": "execute_result"
    }
   ],
   "source": [
    "\n",
    "estimated_rotation.apply(source_matched_xyz),target_matched_xyz\n"
   ]
  },
  {
   "cell_type": "code",
   "execution_count": null,
   "metadata": {},
   "outputs": [],
   "source": [
    "target_centered = target_points - target_centroid\n",
    "source_centered = source_points - source_centroid\n",
    "source_centered_transformed = estimated_rotation.apply(source_centered)"
   ]
  },
  {
   "cell_type": "code",
   "execution_count": null,
   "metadata": {},
   "outputs": [
    {
     "ename": "ValueError",
     "evalue": "operands could not be broadcast together with shapes (3237,3) (2446,3) ",
     "output_type": "error",
     "traceback": [
      "\u001b[1;31m---------------------------------------------------------------------------\u001b[0m",
      "\u001b[1;31mValueError\u001b[0m                                Traceback (most recent call last)",
      "\u001b[1;32mc:\\Users\\simut\\Desktop\\stuff\\DTU\\courses\\Perception\\Exercises\\week5\\project\\Weekly Project.ipynb Cell 15'\u001b[0m in \u001b[0;36m<module>\u001b[1;34m\u001b[0m\n\u001b[1;32m----> <a href='vscode-notebook-cell:/c%3A/Users/simut/Desktop/stuff/DTU/courses/Perception/Exercises/week5/project/Weekly%20Project.ipynb#ch0000026?line=0'>1</a>\u001b[0m disparity \u001b[39m=\u001b[39m np\u001b[39m.\u001b[39mlinalg\u001b[39m.\u001b[39mnorm(source_centered_transformed \u001b[39m-\u001b[39;49m target_centered)\n",
      "\u001b[1;31mValueError\u001b[0m: operands could not be broadcast together with shapes (3237,3) (2446,3) "
     ]
    }
   ],
   "source": [
    "disparity = np.linalg.norm(source_centered_transformed - target_centered)"
   ]
  },
  {
   "cell_type": "code",
   "execution_count": null,
   "metadata": {},
   "outputs": [],
   "source": [
    "# pcd1 = o3d.geometry.PointCloud()\n",
    "# pcd1.points = o3d.utility.Vector3dVector(source_centered_transformed)\n",
    "# pcd2 = o3d.geometry.PointCloud()\n",
    "# pcd2.points = o3d.utility.Vector3dVector(target_centered)\n",
    "# draw_registrations(pcd1, pcd2, recolor=True)"
   ]
  },
  {
   "cell_type": "code",
   "execution_count": null,
   "metadata": {},
   "outputs": [],
   "source": [
    "# h = mapping_points.T @ true_points\n",
    "# u, s, vt = np.linalg.svd(h)\n",
    "# v = vt.T\n",
    "# d = np.linalg.det(v @ u.T)\n",
    "# e = np.array([[1, 0, 0], [0, 1, 0], [0, 0, d]])\n",
    "# r = v @ e @ u.T"
   ]
  },
  {
   "cell_type": "code",
   "execution_count": null,
   "metadata": {},
   "outputs": [],
   "source": []
  },
  {
   "cell_type": "code",
   "execution_count": null,
   "metadata": {},
   "outputs": [],
   "source": []
  },
  {
   "cell_type": "code",
   "execution_count": null,
   "metadata": {},
   "outputs": [],
   "source": []
  },
  {
   "cell_type": "code",
   "execution_count": null,
   "metadata": {},
   "outputs": [],
   "source": []
  },
  {
   "cell_type": "markdown",
   "metadata": {},
   "source": [
    "## Task 2 (Challange)\n",
    "Challanges attempt either or both:\n",
    "- Implement local registration.\n",
    "\n",
    "- Attempt to reconstruct the car from the images in *car_challange* folder.\n",
    "\n",
    "You can use the exercises from monday as a starting point."
   ]
  },
  {
   "cell_type": "code",
   "execution_count": null,
   "metadata": {},
   "outputs": [],
   "source": []
  },
  {
   "cell_type": "code",
   "execution_count": null,
   "metadata": {},
   "outputs": [],
   "source": []
  }
 ],
 "metadata": {
  "kernelspec": {
   "display_name": "Python 3",
   "language": "python",
   "name": "python3"
  },
  "language_info": {
   "codemirror_mode": {
    "name": "ipython",
    "version": 3
   },
   "file_extension": ".py",
   "mimetype": "text/x-python",
   "name": "python",
   "nbconvert_exporter": "python",
   "pygments_lexer": "ipython3",
   "version": "3.8.10"
  }
 },
 "nbformat": 4,
 "nbformat_minor": 4
}
