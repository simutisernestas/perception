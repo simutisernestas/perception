{
 "cells": [
  {
   "cell_type": "markdown",
   "metadata": {},
   "source": [
    "# Weekly Project 5\n",
    "## Global Registration implementation.\n",
    "## Task 1\n",
    "Today your project is to implement a global registration algorithm.\n",
    "\n",
    "It should be able to roughly align two pointclouds.\n",
    "1. Implement global registration\n",
    "2. Can you fit **r1.pcd** and **r2.pcd**?\n",
    "3. Can you fit **car1.ply** and **car2.ply**?\n",
    "These are in the *global_registration* folder\n"
   ]
  },
  {
   "cell_type": "code",
   "execution_count": 328,
   "metadata": {},
   "outputs": [],
   "source": [
    "import open3d as o3d\n",
    "import numpy as np\n",
    "import copy\n",
    "from scipy.spatial import procrustes\n",
    "import scipy"
   ]
  },
  {
   "cell_type": "code",
   "execution_count": 329,
   "metadata": {},
   "outputs": [],
   "source": [
    "# helper function for drawing if you want it to be more clear which is which set recolor=True\n",
    "def draw_registrations(source, target, transformation = None, recolor = False):\n",
    "    source_temp = copy.deepcopy(source)\n",
    "    target_temp = copy.deepcopy(target)\n",
    "    if(recolor):\n",
    "        source_temp.paint_uniform_color([1, .1, 0])\n",
    "        target_temp.paint_uniform_color([0, .1, 1])\n",
    "    if(transformation is not None):\n",
    "        source_temp.transform(transformation)\n",
    "    o3d.visualization.draw_geometries([source_temp, target_temp])"
   ]
  },
  {
   "cell_type": "code",
   "execution_count": 456,
   "metadata": {},
   "outputs": [
    {
     "data": {
      "text/plain": [
       "PointCloud with 137833 points."
      ]
     },
     "execution_count": 456,
     "metadata": {},
     "output_type": "execute_result"
    }
   ],
   "source": [
    "source = o3d.io.read_point_cloud(\"global_registration/r1.pcd\")\n",
    "target = o3d.io.read_point_cloud(\"global_registration/r2.pcd\")\n",
    "voxel_size = 0.075\n",
    "# draw_registrations(source, target)"
   ]
  },
  {
   "cell_type": "code",
   "execution_count": 462,
   "metadata": {},
   "outputs": [
    {
     "name": "stdout",
     "output_type": "stream",
     "text": [
      "[Open3D WARNING] geometry::TriangleMesh appears to be a geometry::PointCloud (only contains vertices, but no triangles).\n"
     ]
    }
   ],
   "source": [
    "mesh = o3d.io.read_triangle_mesh(\"global_registration/car1.ply\")\n",
    "pcd1 = o3d.geometry.PointCloud()\n",
    "pcd1.points = o3d.utility.Vector3dVector(np.array(mesh.vertices))\n",
    "draw_registrations(pcd1,pcd1)"
   ]
  },
  {
   "cell_type": "markdown",
   "metadata": {},
   "source": [
    "### Features"
   ]
  },
  {
   "cell_type": "code",
   "execution_count": 343,
   "metadata": {},
   "outputs": [],
   "source": [
    "source = source.voxel_down_sample(voxel_size)\n",
    "source.estimate_normals(o3d.geometry.KDTreeSearchParamHybrid(radius=voxel_size * 2.0,\n",
    "                                            max_nn=30))\n",
    "source_fpfh_features = o3d.pipelines.registration.compute_fpfh_feature(source,\n",
    "    o3d.geometry.KDTreeSearchParamHybrid(radius=voxel_size * 5.0,max_nn=100))\n",
    "\n",
    "target = target.voxel_down_sample(voxel_size)\n",
    "target.estimate_normals(o3d.geometry.KDTreeSearchParamHybrid(radius=voxel_size * 2.0,\n",
    "                                            max_nn=30))\n",
    "target_fpfh_features = o3d.pipelines.registration.compute_fpfh_feature(target,\n",
    "    o3d.geometry.KDTreeSearchParamHybrid(radius=voxel_size * 5.0, max_nn=100))"
   ]
  },
  {
   "cell_type": "code",
   "execution_count": 438,
   "metadata": {},
   "outputs": [
    {
     "data": {
      "text/plain": [
       "((33, 1615),\n",
       " (33, 2154),\n",
       " <bound method PyCapsule.dimension of PointCloud with 1615 points.>,\n",
       " <bound method PyCapsule.dimension of PointCloud with 2154 points.>)"
      ]
     },
     "execution_count": 438,
     "metadata": {},
     "output_type": "execute_result"
    }
   ],
   "source": [
    "target_fpfh_features.data.shape, source_fpfh_features.data.shape, target.dimension, source.dimension"
   ]
  },
  {
   "cell_type": "code",
   "execution_count": 345,
   "metadata": {},
   "outputs": [],
   "source": [
    "target_points = np.asarray(target.points)\n",
    "target_centroid = np.mean(target_points, axis=0)\n",
    "source_points = np.asarray(source.points)\n",
    "source_centroid = np.mean(source_points, axis=0)"
   ]
  },
  {
   "cell_type": "code",
   "execution_count": 411,
   "metadata": {},
   "outputs": [],
   "source": [
    "# data = np.append(target_fpfh_features.data.T,source_fpfh_features.data.T,axis=0)\n",
    "kd1 = scipy.spatial.KDTree(target_fpfh_features.data.T)\n",
    "kd2 = scipy.spatial.KDTree(source_fpfh_features.data.T)\n",
    "indexes = kd1.query_ball_tree(kd2, r=13)\n",
    "# target => source\n",
    "matches = {}\n",
    "for i in range(len(indexes)):\n",
    "    if indexes[i]:\n",
    "        matches[i] = indexes[i][0]\n",
    "n_matched = len(matches)"
   ]
  },
  {
   "cell_type": "code",
   "execution_count": 432,
   "metadata": {},
   "outputs": [
    {
     "data": {
      "text/plain": [
       "(array([  63, 1597,  370]), [15, 104, 849])"
      ]
     },
     "execution_count": 432,
     "metadata": {},
     "output_type": "execute_result"
    }
   ],
   "source": [
    "target_random_sample = np.random.choice(list(matches.keys()), (3,), replace=False)\n",
    "source_random_sample = [matches[target_random_sample[x]] for x in range(3)]\n",
    "target_random_sample, source_random_sample"
   ]
  },
  {
   "cell_type": "code",
   "execution_count": 448,
   "metadata": {},
   "outputs": [
    {
     "data": {
      "text/plain": [
       "True"
      ]
     },
     "execution_count": 448,
     "metadata": {},
     "output_type": "execute_result"
    }
   ],
   "source": [
    "match_targets = target_points[list(matches.keys())]\n",
    "match_sources = source_points[list(matches.values())]\n",
    "match_targets.shape == match_sources.shape"
   ]
  },
  {
   "cell_type": "code",
   "execution_count": 435,
   "metadata": {},
   "outputs": [
    {
     "data": {
      "text/plain": [
       "(array([[-0.1864865 , -0.81110513,  0.02239685],\n",
       "        [ 0.62712275,  0.64703903, -0.45486944],\n",
       "        [-0.17946324, -0.67165316,  0.06464461]]),\n",
       " array([[ 0.25414949,  0.15883807, -0.7056722 ],\n",
       "        [-0.84843637, -0.36647425,  0.50610426],\n",
       "        [ 0.11138434,  0.6090613 , -0.55680207]]))"
      ]
     },
     "execution_count": 435,
     "metadata": {},
     "output_type": "execute_result"
    }
   ],
   "source": [
    "target_matched_xyz = target_points[target_random_sample] - target_centroid\n",
    "source_matched_xyz = source_points[source_random_sample] - source_centroid\n",
    "target_matched_xyz,source_matched_xyz"
   ]
  },
  {
   "cell_type": "code",
   "execution_count": 439,
   "metadata": {},
   "outputs": [
    {
     "data": {
      "text/plain": [
       "(<scipy.spatial.transform._rotation.Rotation at 0x1943a5fd6c0>,\n",
       " 0.3750123451566961)"
      ]
     },
     "execution_count": 439,
     "metadata": {},
     "output_type": "execute_result"
    }
   ],
   "source": [
    "(estimated_rotation,rmsd) = scipy.spatial.transform.Rotation.align_vectors(target_matched_xyz, source_matched_xyz)\n",
    "estimated_rotation,rmsd"
   ]
  },
  {
   "cell_type": "code",
   "execution_count": 453,
   "metadata": {},
   "outputs": [
    {
     "data": {
      "text/plain": [
       "33.338443509045206"
      ]
     },
     "execution_count": 453,
     "metadata": {},
     "output_type": "execute_result"
    }
   ],
   "source": [
    "# match_targets.shape == match_sources.shape\n",
    "np.linalg.norm(estimated_rotation.apply(match_sources) - match_targets)"
   ]
  },
  {
   "cell_type": "code",
   "execution_count": 350,
   "metadata": {},
   "outputs": [
    {
     "name": "stdout",
     "output_type": "stream",
     "text": [
      "276.62869752545635 [1110 1091  483] [ 730 1097  380]\n"
     ]
    }
   ],
   "source": [
    "# n_matched = min(target_fpfh_features.data.shape[1], source_fpfh_features.data.shape[1])\n",
    "\n",
    "# n_target_f = target_fpfh_features.data.shape[1]\n",
    "# n_source_f = source_fpfh_features.data.shape[1]\n",
    "\n",
    "# p_over_norm = False\n",
    "\n",
    "# min_disparity = np.inf\n",
    "# min_target_sample = np.zeros((3,))\n",
    "# min_source_sample = np.zeros((3,))\n",
    "# # for i in range(10000):\n",
    "# target_random_sample = np.random.choice(np.arange(n_target_f), (3,), replace=False)\n",
    "# source_random_sample = np.random.choice(np.arange(n_source_f), (3,), replace=False)\n",
    "# if p_over_norm:\n",
    "#     mtx1, mtx2, disparity = procrustes(\n",
    "#         target_fpfh_features.data[:,target_random_sample], \n",
    "#         source_fpfh_features.data[:,source_random_sample])\n",
    "# else:\n",
    "#     disparity = np.linalg.norm(\n",
    "#         target_fpfh_features.data[:,target_random_sample] - \n",
    "#         source_fpfh_features.data[:,source_random_sample])\n",
    "# if disparity < min_disparity:\n",
    "#     min_disparity = disparity\n",
    "#     min_target_sample = target_random_sample\n",
    "#     min_source_sample = source_random_sample\n",
    "\n",
    "# print(min_disparity, min_target_sample, min_source_sample)"
   ]
  },
  {
   "cell_type": "code",
   "execution_count": 336,
   "metadata": {},
   "outputs": [],
   "source": [
    "target_matched_xyz = target_points[min_target_sample] - target_centroid\n",
    "source_matched_xyz = source_points[min_source_sample] - source_centroid"
   ]
  },
  {
   "cell_type": "code",
   "execution_count": 474,
   "metadata": {},
   "outputs": [
    {
     "data": {
      "text/plain": [
       "(2154, 3)"
      ]
     },
     "execution_count": 474,
     "metadata": {},
     "output_type": "execute_result"
    }
   ],
   "source": [
    "x = np.array([[0, 2], [1, 1], [2, 0]]).T\n",
    "x.shape, target_points[target_random_sample], \n",
    "\n",
    "np.append(target_points[target_random_sample], source_points[source_random_sample],axis=0).shape, x.shape\n",
    "source_points.shape"
   ]
  },
  {
   "cell_type": "code",
   "execution_count": 337,
   "metadata": {},
   "outputs": [],
   "source": [
    "# Cpq = target_matched_xyz @ source_matched_xyz.T\n",
    "# U,S,V = np.linalg.svd(Cpq)\n",
    "# U @ V"
   ]
  },
  {
   "cell_type": "code",
   "execution_count": 338,
   "metadata": {},
   "outputs": [
    {
     "data": {
      "text/plain": [
       "(<scipy.spatial.transform._rotation.Rotation at 0x1943ac42990>,\n",
       " 1.0179907252439597)"
      ]
     },
     "execution_count": 338,
     "metadata": {},
     "output_type": "execute_result"
    }
   ],
   "source": [
    "(estimated_rotation,rmsd) = scipy.spatial.transform.Rotation.align_vectors(target_matched_xyz, source_matched_xyz)\n",
    "estimated_rotation,rmsd"
   ]
  },
  {
   "cell_type": "code",
   "execution_count": 353,
   "metadata": {},
   "outputs": [
    {
     "data": {
      "text/plain": [
       "(array([[-0.48978131, -0.64845683,  0.13119908],\n",
       "        [-0.22432958, -0.35277494,  0.03728706],\n",
       "        [-0.18791448,  0.48169804, -0.12840193]]),\n",
       " array([[-0.67780466, -0.27464229,  0.02694767],\n",
       "        [ 0.06418354,  0.17066639, -0.02039324],\n",
       "        [-0.88154976,  0.55336459, -0.18775678]]))"
      ]
     },
     "execution_count": 353,
     "metadata": {},
     "output_type": "execute_result"
    }
   ],
   "source": [
    "\n",
    "estimated_rotation.apply(source_matched_xyz),target_matched_xyz\n"
   ]
  },
  {
   "cell_type": "code",
   "execution_count": 339,
   "metadata": {},
   "outputs": [],
   "source": [
    "target_centered = target_points - target_centroid\n",
    "source_centered = source_points - source_centroid\n",
    "source_centered_transformed = estimated_rotation.apply(source_centered)"
   ]
  },
  {
   "cell_type": "code",
   "execution_count": 352,
   "metadata": {},
   "outputs": [
    {
     "ename": "ValueError",
     "evalue": "operands could not be broadcast together with shapes (3237,3) (2446,3) ",
     "output_type": "error",
     "traceback": [
      "\u001b[1;31m---------------------------------------------------------------------------\u001b[0m",
      "\u001b[1;31mValueError\u001b[0m                                Traceback (most recent call last)",
      "\u001b[1;32mc:\\Users\\simut\\Desktop\\stuff\\DTU\\courses\\Perception\\Exercises\\week5\\project\\Weekly Project.ipynb Cell 15'\u001b[0m in \u001b[0;36m<module>\u001b[1;34m\u001b[0m\n\u001b[1;32m----> <a href='vscode-notebook-cell:/c%3A/Users/simut/Desktop/stuff/DTU/courses/Perception/Exercises/week5/project/Weekly%20Project.ipynb#ch0000026?line=0'>1</a>\u001b[0m disparity \u001b[39m=\u001b[39m np\u001b[39m.\u001b[39mlinalg\u001b[39m.\u001b[39mnorm(source_centered_transformed \u001b[39m-\u001b[39;49m target_centered)\n",
      "\u001b[1;31mValueError\u001b[0m: operands could not be broadcast together with shapes (3237,3) (2446,3) "
     ]
    }
   ],
   "source": [
    "disparity = np.linalg.norm(source_centered_transformed - target_centered)"
   ]
  },
  {
   "cell_type": "code",
   "execution_count": 340,
   "metadata": {},
   "outputs": [],
   "source": [
    "# pcd1 = o3d.geometry.PointCloud()\n",
    "# pcd1.points = o3d.utility.Vector3dVector(source_centered_transformed)\n",
    "# pcd2 = o3d.geometry.PointCloud()\n",
    "# pcd2.points = o3d.utility.Vector3dVector(target_centered)\n",
    "# draw_registrations(pcd1, pcd2, recolor=True)"
   ]
  },
  {
   "cell_type": "code",
   "execution_count": 341,
   "metadata": {},
   "outputs": [],
   "source": [
    "# h = mapping_points.T @ true_points\n",
    "# u, s, vt = np.linalg.svd(h)\n",
    "# v = vt.T\n",
    "# d = np.linalg.det(v @ u.T)\n",
    "# e = np.array([[1, 0, 0], [0, 1, 0], [0, 0, d]])\n",
    "# r = v @ e @ u.T"
   ]
  },
  {
   "cell_type": "code",
   "execution_count": null,
   "metadata": {},
   "outputs": [],
   "source": []
  },
  {
   "cell_type": "code",
   "execution_count": null,
   "metadata": {},
   "outputs": [],
   "source": []
  },
  {
   "cell_type": "code",
   "execution_count": null,
   "metadata": {},
   "outputs": [],
   "source": []
  },
  {
   "cell_type": "code",
   "execution_count": null,
   "metadata": {},
   "outputs": [],
   "source": []
  },
  {
   "cell_type": "markdown",
   "metadata": {},
   "source": [
    "## Task 2 (Challange)\n",
    "Challanges attempt either or both:\n",
    "- Implement local registration.\n",
    "\n",
    "- Attempt to reconstruct the car from the images in *car_challange* folder.\n",
    "\n",
    "You can use the exercises from monday as a starting point."
   ]
  },
  {
   "cell_type": "code",
   "execution_count": null,
   "metadata": {},
   "outputs": [],
   "source": []
  },
  {
   "cell_type": "code",
   "execution_count": null,
   "metadata": {},
   "outputs": [],
   "source": []
  }
 ],
 "metadata": {
  "kernelspec": {
   "display_name": "Python 3",
   "language": "python",
   "name": "python3"
  },
  "language_info": {
   "codemirror_mode": {
    "name": "ipython",
    "version": 3
   },
   "file_extension": ".py",
   "mimetype": "text/x-python",
   "name": "python",
   "nbconvert_exporter": "python",
   "pygments_lexer": "ipython3",
   "version": "3.8.10"
  }
 },
 "nbformat": 4,
 "nbformat_minor": 4
}
