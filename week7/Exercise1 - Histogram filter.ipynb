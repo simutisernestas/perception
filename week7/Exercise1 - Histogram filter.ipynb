{
 "cells": [
  {
   "cell_type": "markdown",
   "metadata": {},
   "source": [
    "# Histogram filter\n",
    "\n",
    "Assume we have a robot that can be in one of five blocks. With no other info we calculate the probability of the robot being in each such and plot a histogram of the probabilities:"
   ]
  },
  {
   "cell_type": "code",
   "execution_count": 1,
   "metadata": {},
   "outputs": [],
   "source": [
    "from math import *\n",
    "import numpy as np\n",
    "import matplotlib.pyplot as plt\n",
    "from scipy import ndimage, signal"
   ]
  },
  {
   "cell_type": "code",
   "execution_count": 2,
   "metadata": {},
   "outputs": [
    {
     "data": {
      "text/plain": [
       "<BarContainer object of 5 artists>"
      ]
     },
     "execution_count": 2,
     "metadata": {},
     "output_type": "execute_result"
    },
    {
     "data": {
      "image/png": "[encoded data removed]",
      "text/plain": [
       "<Figure size 432x288 with 1 Axes>"
      ]
     },
     "metadata": {
      "needs_background": "light"
     },
     "output_type": "display_data"
    }
   ],
   "source": [
    "no_of_blocks = 5\n",
    "prb = 1/5\n",
    "\n",
    "p = [prb, prb, prb, prb, prb]\n",
    "\n",
    "plt.bar(range(no_of_blocks), p)"
   ]
  },
  {
   "cell_type": "markdown",
   "metadata": {},
   "source": [
    "Now we say that each block is either red or green and that our robot can sense that colour. We multiply all the correct sensings with 0.6 and the incorrect with 0.2. These values are arbitrary and just represent that the robot has a higher probability to be at a red block if that is what is measured.\n",
    "\n",
    "In the following we define the world and make a function that calculates the new probabilities by using the measurement. We then try it out with a measurement of 'red'.\n",
    "\n",
    "Notice that we divide each probability with the sum of all probabilities in order to get something that adds up to one."
   ]
  },
  {
   "cell_type": "code",
   "execution_count": 5,
   "metadata": {},
   "outputs": [
    {
     "name": "stdout",
     "output_type": "stream",
     "text": [
      "[0.11111111 0.33333333 0.33333333 0.11111111 0.11111111]\n"
     ]
    },
    {
     "data": {
      "text/plain": [
       "<BarContainer object of 5 artists>"
      ]
     },
     "execution_count": 5,
     "metadata": {},
     "output_type": "execute_result"
    },
    {
     "data": {
      "image/png": "[encoded data removed]",
      "text/plain": [
       "<Figure size 432x288 with 1 Axes>"
      ]
     },
     "metadata": {
      "needs_background": "light"
     },
     "output_type": "display_data"
    }
   ],
   "source": [
    "no_of_blocks = 5\n",
    "prb = 1/5\n",
    "p = [prb, prb, prb, prb, prb]\n",
    "\n",
    "world = ['green', 'red', 'red', 'green', 'green']\n",
    "z = 'red' # Measurement\n",
    "pHit = 0.6\n",
    "pMiss = 0.2\n",
    "\n",
    "def sense(p,z):\n",
    "    q = []\n",
    "    for i in range(len(world)):\n",
    "        hit = (z == world[i]) # True if measurement matches this part of the world, false if not.\n",
    "        q.append(p[i]*(hit * pHit + (1- hit) * pMiss))\n",
    "        \n",
    "    q = np.array(q)/sum(q) # Divide the probability with the sum of all probabilities, to make it add up to 1.\n",
    "    return q\n",
    "\n",
    "\n",
    "q = sense(p,z)\n",
    "print(q)\n",
    "\n",
    "plt.bar(range(no_of_blocks), q)"
   ]
  },
  {
   "cell_type": "markdown",
   "metadata": {},
   "source": [
    "Next we make a function that moves the robot. This is easily done using the numpy roll method:"
   ]
  },
  {
   "cell_type": "code",
   "execution_count": 15,
   "metadata": {},
   "outputs": [
    {
     "data": {
      "text/plain": [
       "<BarContainer object of 5 artists>"
      ]
     },
     "execution_count": 15,
     "metadata": {},
     "output_type": "execute_result"
    },
    {
     "data": {
      "image/png": "[encoded data removed]",
      "text/plain": [
       "<Figure size 432x288 with 1 Axes>"
      ]
     },
     "metadata": {
      "needs_background": "light"
     },
     "output_type": "display_data"
    }
   ],
   "source": [
    "def move(p, U):\n",
    "    q=np.roll(p,U)\n",
    "    return q\n",
    "\n",
    "q = move(q, 1)\n",
    "plt.bar(range(no_of_blocks), q)"
   ]
  },
  {
   "cell_type": "markdown",
   "metadata": {},
   "source": [
    "Every time we move there is some uncertainty to the movement, due to measurement uncertainties, etc. We therefore add some uncertainty to the movement. We do this by convolving the uncertainty with the probabilites. We use a scipy filter to do this:"
   ]
  },
  {
   "cell_type": "code",
   "execution_count": 16,
   "metadata": {},
   "outputs": [
    {
     "name": "stderr",
     "output_type": "stream",
     "text": [
      "C:\\Users\\simut\\AppData\\Local\\Temp\\ipykernel_5068\\603278898.py:5: DeprecationWarning: Please use `convolve1d` from the `scipy.ndimage` namespace, the `scipy.ndimage.filters` namespace is deprecated.\n",
      "  q=ndimage.filters.convolve1d(q,move_uncertainty,mode='wrap')\n"
     ]
    },
    {
     "data": {
      "text/plain": [
       "<BarContainer object of 5 artists>"
      ]
     },
     "execution_count": 16,
     "metadata": {},
     "output_type": "execute_result"
    },
    {
     "data": {
      "image/png": "[encoded data removed]",
      "text/plain": [
       "<Figure size 432x288 with 1 Axes>"
      ]
     },
     "metadata": {
      "needs_background": "light"
     },
     "output_type": "display_data"
    }
   ],
   "source": [
    "move_uncertainty=[0.1 , 0.8, 0.1]\n",
    "\n",
    "def move(p, U, move_uncertainty):\n",
    "    q=np.roll(p,U)\n",
    "    q=ndimage.filters.convolve1d(q,move_uncertainty,mode='wrap')\n",
    "    return q\n",
    "\n",
    "q = move(q, 2, move_uncertainty)\n",
    "plt.bar(range(no_of_blocks), q)"
   ]
  },
  {
   "cell_type": "markdown",
   "metadata": {},
   "source": [
    "Now let's see what happens if we move the robot a thousand times without sensing anything:"
   ]
  },
  {
   "cell_type": "code",
   "execution_count": 18,
   "metadata": {},
   "outputs": [
    {
     "name": "stderr",
     "output_type": "stream",
     "text": [
      "C:\\Users\\simut\\AppData\\Local\\Temp\\ipykernel_5068\\603278898.py:5: DeprecationWarning: Please use `convolve1d` from the `scipy.ndimage` namespace, the `scipy.ndimage.filters` namespace is deprecated.\n",
      "  q=ndimage.filters.convolve1d(q,move_uncertainty,mode='wrap')\n"
     ]
    },
    {
     "data": {
      "text/plain": [
       "<BarContainer object of 5 artists>"
      ]
     },
     "execution_count": 18,
     "metadata": {},
     "output_type": "execute_result"
    },
    {
     "data": {
      "image/png": "[encoded data removed]",
      "text/plain": [
       "<Figure size 432x288 with 1 Axes>"
      ]
     },
     "metadata": {
      "needs_background": "light"
     },
     "output_type": "display_data"
    }
   ],
   "source": [
    "for i in range(1000):\n",
    "    q = move(q, 2, move_uncertainty)\n",
    "    \n",
    "plt.bar(range(no_of_blocks), q)"
   ]
  },
  {
   "cell_type": "markdown",
   "metadata": {},
   "source": [
    "Let's try both sensing and moving. We write the full code:"
   ]
  },
  {
   "cell_type": "code",
   "execution_count": 19,
   "metadata": {},
   "outputs": [
    {
     "name": "stderr",
     "output_type": "stream",
     "text": [
      "C:\\Users\\simut\\AppData\\Local\\Temp\\ipykernel_5068\\4166232051.py:23: DeprecationWarning: Please use `convolve1d` from the `scipy.ndimage` namespace, the `scipy.ndimage.filters` namespace is deprecated.\n",
      "  q=ndimage.filters.convolve1d(q,move_uncertainty,mode='wrap')\n"
     ]
    },
    {
     "data": {
      "text/plain": [
       "<BarContainer object of 5 artists>"
      ]
     },
     "execution_count": 19,
     "metadata": {},
     "output_type": "execute_result"
    },
    {
     "data": {
      "image/png": "[encoded data removed]",
      "text/plain": [
       "<Figure size 432x288 with 1 Axes>"
      ]
     },
     "metadata": {
      "needs_background": "light"
     },
     "output_type": "display_data"
    }
   ],
   "source": [
    "# We define the world, uncertainties, etc. as before.\n",
    "no_of_blocks = 5\n",
    "prb = 1/5\n",
    "p = [prb, prb, prb, prb, prb]\n",
    "world = ['green', 'red', 'red', 'green', 'green']\n",
    "measurements=['red','green']\n",
    "phit=0.6\n",
    "pmiss=0.2\n",
    "movements =[1, 1]\n",
    "move_uncertainty=[0.1 , 0.8, 0.1]\n",
    "\n",
    "def sense(p, Z):\n",
    "    q=[]\n",
    "    for i in range(len(p)):\n",
    "        hit = (Z == world[i])\n",
    "        q.append(p[i]*(hit * phit + (1- hit) * pmiss))\n",
    "\n",
    "    q = np.array(q)/sum(q)\n",
    "    return q\n",
    "\n",
    "def move(p, U, move_uncertainty):\n",
    "    q=np.roll(p,U)\n",
    "    q=ndimage.filters.convolve1d(q,move_uncertainty,mode='wrap')\n",
    "    return q\n",
    "\n",
    "# We make a loop where we measure and move\n",
    "for i in range(len(movements)):\n",
    "    p=sense(p,measurements[i])\n",
    "    p = move(p, movements[i], move_uncertainty)\n",
    "    \n",
    "plt.bar(range(no_of_blocks),p)"
   ]
  },
  {
   "cell_type": "markdown",
   "metadata": {},
   "source": [
    "# Exercise 1\n",
    "We will now extent the histogram plot to work in 2D. You are given the world map and the move function below. We can now move up, down, left and right in the world. We can plot the map with the probabilities by using plt.imshow.\n",
    "Insert a sense function that will work in 2D, and loop through the measurements and movements, while showing the probabilities using plt.imshow. You will also need to insert a 2D version of the move_uncertainty."
   ]
  },
  {
   "cell_type": "code",
   "execution_count": 35,
   "metadata": {},
   "outputs": [
    {
     "name": "stdout",
     "output_type": "stream",
     "text": [
      "[[0.06  0.052 0.028 0.052 0.06 ]\n",
      " [0.06  0.056 0.028 0.032 0.056]\n",
      " [0.06  0.056 0.052 0.056 0.06 ]\n",
      " [0.056 0.032 0.028 0.056 0.06 ]] 0.059999999999999984\n",
      "[[0.04134078 0.04832402 0.05810056 0.03854749 0.03826816]\n",
      " [0.04134078 0.04469274 0.08882682 0.09162011 0.04916201]\n",
      " [0.03826816 0.03407821 0.03463687 0.04497207 0.04134078]\n",
      " [0.04832402 0.08156425 0.0575419  0.03798883 0.04106145]] 0.09162011173184356\n",
      "[[0.02719899 0.04872026 0.12992069 0.06703317 0.03275054]\n",
      " [0.02546864 0.0305155  0.07204398 0.06997116 0.03300288]\n",
      " [0.03175919 0.04996395 0.04794521 0.03226388 0.02660418]\n",
      " [0.03361572 0.07819034 0.10023432 0.03700433 0.02579308]] 0.12992069214131216\n",
      "[[0.08440496 0.17259317 0.05606534 0.02103345 0.02414205]\n",
      " [0.03735845 0.11619268 0.05011389 0.02123086 0.01656579]\n",
      " [0.03514795 0.07980173 0.05164107 0.02087943 0.01962992]\n",
      " [0.04808777 0.07523211 0.03080285 0.01713415 0.02194238]] 0.1725931710703284\n"
     ]
    },
    {
     "data": {
      "image/png": "[encoded data removed]",
      "text/plain": [
       "<Figure size 432x288 with 1 Axes>"
      ]
     },
     "metadata": {
      "needs_background": "light"
     },
     "output_type": "display_data"
    },
    {
     "data": {
      "image/png": "[encoded data removed]",
      "text/plain": [
       "<Figure size 432x288 with 1 Axes>"
      ]
     },
     "metadata": {
      "needs_background": "light"
     },
     "output_type": "display_data"
    },
    {
     "data": {
      "image/png": "[encoded data removed]",
      "text/plain": [
       "<Figure size 432x288 with 1 Axes>"
      ]
     },
     "metadata": {
      "needs_background": "light"
     },
     "output_type": "display_data"
    },
    {
     "data": {
      "image/png": "[encoded data removed]",
      "text/plain": [
       "<Figure size 432x288 with 1 Axes>"
      ]
     },
     "metadata": {
      "needs_background": "light"
     },
     "output_type": "display_data"
    }
   ],
   "source": [
    "no_of_blocks = 20\n",
    "prb = 1/20\n",
    "\n",
    "# The initial probabilities\n",
    "p=[[prb, prb, prb, prb, prb],\n",
    "   [prb, prb, prb, prb, prb],\n",
    "   [prb, prb, prb, prb, prb],\n",
    "   [prb, prb, prb, prb, prb]]\n",
    "\n",
    "# The world map\n",
    "world = [['red', 'green', 'green', 'red', 'red'],\n",
    "         ['red', 'red', 'green', 'red', 'red'],\n",
    "         ['red', 'red', 'green', 'green', 'red'],\n",
    "         ['red', 'red', 'red', 'red', 'red']]\n",
    "world=np.array(world)\n",
    "\n",
    "measurements=['red','green', 'green', 'green']\n",
    "phit=0.6\n",
    "pmiss=0.2\n",
    "movements =['up', 'up', 'up', 'left']\n",
    "\n",
    "# Define move_uncertainty\n",
    "move_uncertainty = np.array([\n",
    "    [0.0, 0.1, 0.0],\n",
    "    [0.1, 0.6, 0.1],\n",
    "    [0.0, 0.1, 0.0],\n",
    "])\n",
    "\n",
    "def sense(p, z):\n",
    "    ### Write a sense function that works in 2D ###\n",
    "    q= np.zeros_like(world,dtype=np.float64)\n",
    "    for i in range(len(p)):\n",
    "        for j in range(len(p[0])):\n",
    "            hit = int(z == world[i][j])\n",
    "            q[i][j] = p[i][j]*(hit * phit + (1- hit) * pmiss)\n",
    "    q = q/np.sum(q)\n",
    "    return q\n",
    "    \n",
    "def move(p, u, move_uncertainty):\n",
    "    if u == 'up':\n",
    "        q = np.roll(p, -1, axis=0)\n",
    "    elif u== 'down':\n",
    "        q = np.roll(p, 1, axis=0)\n",
    "    elif u == 'right':\n",
    "        q = np.roll(p, 1, axis=1)\n",
    "    elif u == 'left':\n",
    "        q = np.roll(p, -1, axis=1)\n",
    "    q = signal.convolve2d(q, move_uncertainty, boundary='wrap', mode='same')\n",
    "    return q\n",
    "\n",
    "# Loop through the measurements and movements\n",
    "for i in range(len(measurements)):\n",
    "    p = sense(p, measurements[i])\n",
    "    p = move(p, movements[i], move_uncertainty)\n",
    "    plt.figure(i)\n",
    "    plt.imshow(p,cmap='gray')\n",
    "    print(p, p.max())\n"
   ]
  }
 ],
 "metadata": {
  "kernelspec": {
   "display_name": "Python 3",
   "language": "python",
   "name": "python3"
  },
  "language_info": {
   "codemirror_mode": {
    "name": "ipython",
    "version": 3
   },
   "file_extension": ".py",
   "mimetype": "text/x-python",
   "name": "python",
   "nbconvert_exporter": "python",
   "pygments_lexer": "ipython3",
   "version": "3.8.10"
  }
 },
 "nbformat": 4,
 "nbformat_minor": 2
}
